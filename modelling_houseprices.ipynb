{
  "nbformat": 4,
  "nbformat_minor": 0,
  "metadata": {
    "colab": {
      "provenance": []
    },
    "kernelspec": {
      "name": "python3",
      "display_name": "Python 3"
    },
    "language_info": {
      "name": "python"
    }
  },
  "cells": [
    {
      "cell_type": "markdown",
      "source": [
        "##Importing Modules and Reading Data"
      ],
      "metadata": {
        "id": "w1CAAPFyT0be"
      }
    },
    {
      "cell_type": "code",
      "execution_count": null,
      "metadata": {
        "id": "pst3YkhATum-",
        "colab": {
          "base_uri": "https://localhost:8080/"
        },
        "outputId": "3996b07d-268f-459d-c1c0-322605b22f2d"
      },
      "outputs": [
        {
          "output_type": "stream",
          "name": "stdout",
          "text": [
            "Drive already mounted at /content/drive; to attempt to forcibly remount, call drive.mount(\"/content/drive\", force_remount=True).\n",
            "/content/drive/MyDrive/Data_Science/house_prices\n"
          ]
        }
      ],
      "source": [
        "from google.colab import drive\n",
        "drive.mount('/content/drive')\n",
        "\n",
        "%cd /content/drive/MyDrive/Data_Science/house_prices"
      ]
    },
    {
      "cell_type": "code",
      "source": [
        "from sklearn.ensemble import GradientBoostingRegressor\n",
        "import pandas_cs as cs\n",
        "from sklearn.model_selection import train_test_split\n",
        "import pandas as pd\n",
        "import numpy as np\n",
        "from sklearn.metrics import mean_squared_error\n",
        "\n",
        "raw_test_df = pd.read_csv(\"test.csv\")\n",
        "train_df = pd.read_csv(\"train_df.csv\")\n",
        "test_df = pd.read_csv(\"test_df.csv\")"
      ],
      "metadata": {
        "id": "Omx1RM2BTySY"
      },
      "execution_count": null,
      "outputs": []
    },
    {
      "cell_type": "markdown",
      "source": [
        "##Split n Train"
      ],
      "metadata": {
        "id": "5wLmklT9VT8w"
      }
    },
    {
      "cell_type": "markdown",
      "source": [
        "Split (Beta)"
      ],
      "metadata": {
        "id": "5wC5PTKWEFeV"
      }
    },
    {
      "cell_type": "code",
      "source": [
        "not_target = cs.delete_column(train_df, [\"SalePrice\"])\n",
        "\n",
        "x_train, x_test, y_train, y_test = train_test_split(not_target, train_df[\"SalePrice\"], test_size= 0.2)"
      ],
      "metadata": {
        "id": "LPScQRjBEFDM"
      },
      "execution_count": null,
      "outputs": []
    },
    {
      "cell_type": "markdown",
      "source": [
        "Train (Beta)"
      ],
      "metadata": {
        "id": "YU61hejmFdVJ"
      }
    },
    {
      "cell_type": "code",
      "source": [
        "model = GradientBoostingRegressor(n_estimators = 724, learning_rate = 0.124).fit(x_train, y_train)\n",
        "\n",
        "# model = GradientBoostingRegressor().fit(x_train, y_train)\n",
        "prediction = model.predict(x_test)\n",
        "mean_squared_error(y_test, prediction)"
      ],
      "metadata": {
        "colab": {
          "base_uri": "https://localhost:8080/"
        },
        "id": "nD_X6TgDFcoV",
        "outputId": "9fe452b8-3c67-4c36-c5f6-0725735b65d8"
      },
      "execution_count": null,
      "outputs": [
        {
          "output_type": "execute_result",
          "data": {
            "text/plain": [
              "422196175.1538479"
            ]
          },
          "metadata": {},
          "execution_count": 11
        }
      ]
    },
    {
      "cell_type": "markdown",
      "source": [
        "Split (Alpha)"
      ],
      "metadata": {
        "id": "mYfaligkVYvR"
      }
    },
    {
      "cell_type": "code",
      "source": [
        "# y_train = np.array(train_df[\"SalePrice\"])\n",
        "# x_train = cs.delete_column(train_df, [\"SalePrice\"])\n",
        "# x_train = np.array(x_train)\n",
        "# x_test = np.array(test_df)"
      ],
      "metadata": {
        "id": "lG-Ja42uVVVx"
      },
      "execution_count": null,
      "outputs": []
    },
    {
      "cell_type": "markdown",
      "source": [
        "Train (Alpha)"
      ],
      "metadata": {
        "id": "iLuKevmKVcb1"
      }
    },
    {
      "cell_type": "code",
      "source": [
        "# model = GradientBoostingRegressor(n_estimators = 724, learning_rate = 0.124).fit(x_train, y_train)\n",
        "# prediction = model.predict(x_test)\n",
        "\n",
        "# model = GradientBoostingRegressor().fit(x_train, y_train)\n",
        "# prediction = model.predict(x_test)"
      ],
      "metadata": {
        "id": "pgLXpgy_VdBb"
      },
      "execution_count": null,
      "outputs": []
    },
    {
      "cell_type": "markdown",
      "source": [
        "##Save result to CSV"
      ],
      "metadata": {
        "id": "cWl-YtAeYWI0"
      }
    },
    {
      "cell_type": "code",
      "source": [
        "# result = {\"Id\":raw_test_df[\"Id\"],\n",
        "#           \"SalePrice\":prediction}\n",
        "\n",
        "# result = pd.DataFrame(result)\n",
        "# cs.explore(result)\n",
        "\n",
        "# cs.to_csv(result, \"submission.csv\", False)"
      ],
      "metadata": {
        "id": "sT2fBwN9YVLy"
      },
      "execution_count": null,
      "outputs": []
    }
  ]
}