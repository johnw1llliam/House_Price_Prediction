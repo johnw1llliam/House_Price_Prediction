{
  "cells": [
    {
      "cell_type": "markdown",
      "metadata": {
        "id": "k5Git_DTi8C7"
      },
      "source": [
        "##Configuring Drive"
      ]
    },
    {
      "cell_type": "code",
      "execution_count": null,
      "metadata": {
        "colab": {
          "base_uri": "https://localhost:8080/"
        },
        "id": "OUMBBFtKh6ie",
        "outputId": "ca21f47b-2775-4fa7-f40b-ba963f86f9fe"
      },
      "outputs": [
        {
          "output_type": "stream",
          "name": "stdout",
          "text": [
            "Drive already mounted at /content/drive; to attempt to forcibly remount, call drive.mount(\"/content/drive\", force_remount=True).\n",
            "/content/drive/MyDrive/Data_Science/house_prices\n"
          ]
        }
      ],
      "source": [
        "from google.colab import drive\n",
        "drive.mount('/content/drive')\n",
        "\n",
        "%cd /content/drive/MyDrive/Data_Science/house_prices"
      ]
    },
    {
      "cell_type": "markdown",
      "metadata": {
        "id": "j484lPY8i8HS"
      },
      "source": [
        "##Importing Libraries & Reading Data"
      ]
    },
    {
      "cell_type": "code",
      "execution_count": null,
      "metadata": {
        "id": "H8k9dKy8iH7Z"
      },
      "outputs": [],
      "source": [
        "from sklearn.ensemble import GradientBoostingRegressor\n",
        "from sklearn.model_selection import GridSearchCV\n",
        "from sklearn.model_selection import RandomizedSearchCV\n",
        "import pandas_cs as cs\n",
        "import pandas as pd\n",
        "import numpy as np\n",
        "\n",
        "raw_test_df = pd.read_csv(\"test.csv\")\n",
        "train_df = pd.read_csv(\"train_df.csv\")\n",
        "test_df = pd.read_csv(\"test_df.csv\")"
      ]
    },
    {
      "cell_type": "code",
      "execution_count": null,
      "metadata": {
        "id": "97n6JVh1j0yR"
      },
      "outputs": [],
      "source": [
        "y_train = np.array(train_df[\"SalePrice\"])\n",
        "x_train = cs.delete_column(train_df, [\"SalePrice\"])\n",
        "x_train = np.array(x_train)\n",
        "x_test = np.array(test_df)"
      ]
    },
    {
      "cell_type": "markdown",
      "metadata": {
        "id": "F2yo7BIGlOPI"
      },
      "source": [
        "##Hyperparameter Tuning Grid Search"
      ]
    },
    {
      "cell_type": "code",
      "execution_count": null,
      "metadata": {
        "id": "RAohQuEeKv-M"
      },
      "outputs": [],
      "source": [
        "# n_est = []\n",
        "\n",
        "# for i in range(100, 1001, 100):\n",
        "#   n_est.append(i)"
      ]
    },
    {
      "cell_type": "code",
      "execution_count": null,
      "metadata": {
        "id": "Xu_eu87QlNao"
      },
      "outputs": [],
      "source": [
        "# grb = GradientBoostingRegressor()\n",
        "# params = {'n_estimators': n_est,\n",
        "#           'learning_rate': [0.01, 0.02, 0.03, 0.04, 0.05, 0.06, 0.07, 0.08, 0.09, 0.1, 0.11, 0.12, 0.125]}\n",
        "\n",
        "# model = GridSearchCV(\n",
        "#     estimator=grb,\n",
        "#     param_grid=params,\n",
        "#     scoring=\"neg_mean_squared_error\",\n",
        "#     cv=5,\n",
        "#     n_jobs=-1,\n",
        "#     verbose=1\n",
        "# ).fit(x_train, y_train)\n",
        "\n",
        "# print(model.best_params_)\n",
        "# print(model.best_score_)"
      ]
    },
    {
      "cell_type": "markdown",
      "source": [
        "##Hyperparameter Tuning Random Search"
      ],
      "metadata": {
        "id": "sTj3tJ6O4_sl"
      }
    },
    {
      "cell_type": "code",
      "source": [
        "n_est = []\n",
        "\n",
        "for i in range(100, 1001):\n",
        "  n_est.append(i)\n",
        "\n",
        "learning_rate = np.arange(0.01, 0.125, 0.001)\n",
        "learning_rate = learning_rate.tolist()"
      ],
      "metadata": {
        "id": "F2OppcRo5G9G"
      },
      "execution_count": null,
      "outputs": []
    },
    {
      "cell_type": "code",
      "source": [
        "grb = GradientBoostingRegressor()\n",
        "params = {'n_estimators': n_est,\n",
        "          'learning_rate': learning_rate}\n",
        "\n",
        "model = RandomizedSearchCV(\n",
        "    estimator=grb,\n",
        "    param_distributions=params,\n",
        "    scoring=\"neg_mean_squared_error\",\n",
        "    cv=5,\n",
        "    n_jobs=-1,\n",
        "    verbose=1\n",
        ").fit(x_train, y_train)\n",
        "\n",
        "print(model.best_params_)\n",
        "print(model.best_score_)"
      ],
      "metadata": {
        "colab": {
          "base_uri": "https://localhost:8080/"
        },
        "id": "16mH_uqd6mJA",
        "outputId": "d743e37f-47ed-493f-ed09-4066c7f05259"
      },
      "execution_count": null,
      "outputs": [
        {
          "output_type": "stream",
          "name": "stdout",
          "text": [
            "Fitting 5 folds for each of 10 candidates, totalling 50 fits\n",
            "{'n_estimators': 724, 'learning_rate': 0.1239999999999999}\n",
            "-582001410.7040371\n"
          ]
        }
      ]
    }
  ],
  "metadata": {
    "colab": {
      "provenance": []
    },
    "kernelspec": {
      "display_name": "Python 3",
      "name": "python3"
    },
    "language_info": {
      "name": "python"
    }
  },
  "nbformat": 4,
  "nbformat_minor": 0
}